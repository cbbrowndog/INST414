{
 "cells": [
  {
   "cell_type": "code",
   "execution_count": 1,
   "id": "392af437-a846-49a8-8d10-96885b061055",
   "metadata": {},
   "outputs": [],
   "source": [
    "import pandas as pd \n",
    "import scipy.spatial "
   ]
  },
  {
   "cell_type": "code",
   "execution_count": 2,
   "id": "79361edd-03a5-4216-a94d-369fb63a8fa1",
   "metadata": {},
   "outputs": [],
   "source": [
    "#load the movie dataset into a dataframe \n",
    "df = pd.read_csv(\"movie_metadata.csv\")\n",
    "\n",
    "#remove N/A values from these columns \n",
    "df_filtered = df.dropna(subset=['imdb_score', 'duration', 'budget', 'gross'])\n",
    "\n",
    "#make a copy of the selected columns\n",
    "df_selected = df_filtered[['movie_title', 'imdb_score', 'duration', 'budget', 'gross']].copy()"
   ]
  },
  {
   "cell_type": "code",
   "execution_count": 3,
   "id": "5ad269db-c81d-40fb-9f67-8ea4d67bbdf5",
   "metadata": {},
   "outputs": [],
   "source": [
    "#perform Min-Max normalization on the numerical columns so that scale doens't skew our results as much\n",
    "\n",
    "df_selected['imdb_score_norm'] = (df_selected['imdb_score'] - df_selected['imdb_score'].min()) / \\\n",
    "                                  (df_selected['imdb_score'].max() - df_selected['imdb_score'].min())\n",
    "\n",
    "df_selected['duration_norm'] = (df_selected['duration'] - df_selected['duration'].min()) / \\\n",
    "                                (df_selected['duration'].max() - df_selected['duration'].min())\n",
    "\n",
    "df_selected['budget_norm'] = (df_selected['budget'] - df_selected['budget'].min()) / \\\n",
    "                              (df_selected['budget'].max() - df_selected['budget'].min())\n",
    "\n",
    "df_selected['gross_norm'] = (df_selected['gross'] - df_selected['gross'].min()) / \\\n",
    "                             (df_selected['gross'].max() - df_selected['gross'].min())"
   ]
  },
  {
   "cell_type": "code",
   "execution_count": 26,
   "id": "024f20f9-3078-4171-908f-e1834f89b094",
   "metadata": {},
   "outputs": [],
   "source": [
    "#insert the name here of the target movie\n",
    "target_movie_name = \"Pulp Fiction\""
   ]
  },
  {
   "cell_type": "code",
   "execution_count": 27,
   "id": "1c8866a9-4f1a-4231-9694-057d05ccba9f",
   "metadata": {},
   "outputs": [],
   "source": [
    "#find the row that coresponds to the target movie selected above\n",
    "#removing the movie name because it is not numerical\n",
    "target_movie = df_selected.loc[df_selected['movie_title'].str.strip() == target_movie_name].drop('movie_title', axis=1)\n",
    "\n",
    "#get the features of that movie \n",
    "target_movie_features = target_movie[['imdb_score_norm', 'duration_norm', 'budget_norm', 'gross_norm']].values\n",
    "\n",
    "#compute the euclidean distances between the target movie and all others in the dataset\n",
    "distances = scipy.spatial.distance.cdist(df_selected[['imdb_score_norm', 'duration_norm', 'budget_norm', 'gross_norm']].values,\n",
    "                                         target_movie_features, \n",
    "                                         metric='euclidean').flatten()\n",
    "\n",
    "#connect each movie with their calculated euclidean distances \n",
    "query_distances = list(zip(df_selected['movie_title'], distances))\n"
   ]
  },
  {
   "cell_type": "code",
   "execution_count": 28,
   "id": "161d7db7-27cb-4157-8254-54cb4364e1b9",
   "metadata": {},
   "outputs": [
    {
     "name": "stdout",
     "output_type": "stream",
     "text": [
      "Movie: Pulp Fiction\n",
      "Similarity Score: 0.0000\n",
      "\n",
      "Movie: Schindler's List\n",
      "Similarity Score: 0.0284\n",
      "\n",
      "Movie: The Godfather\n",
      "Similarity Score: 0.0536\n",
      "\n",
      "Movie: The Green Mile\n",
      "Similarity Score: 0.0744\n",
      "\n",
      "Movie: Braveheart\n",
      "Similarity Score: 0.0778\n",
      "\n",
      "Movie: Django Unchained\n",
      "Similarity Score: 0.0995\n",
      "\n",
      "Movie: Amadeus\n",
      "Similarity Score: 0.1077\n",
      "\n",
      "Movie: Aliens\n",
      "Similarity Score: 0.1081\n",
      "\n",
      "Movie: The Departed\n",
      "Similarity Score: 0.1100\n",
      "\n",
      "Movie: Inglourious Basterds\n",
      "Similarity Score: 0.1162\n",
      "\n",
      "Movie: Interstellar\n",
      "Similarity Score: 0.1170\n",
      "\n"
     ]
    }
   ],
   "source": [
    "#sorting movies by similarity (smallest euclidean distances) and take the 10 most popular \n",
    "for similar_movie_name, similar_score in sorted(query_distances, key=lambda x: x[1])[:11]:\n",
    "    imdb_score = df_selected.loc[df_selected['movie_title'] == similar_movie_name, 'imdb_score'].values[0]\n",
    "    duration = int(df_selected.loc[df_selected['movie_title'] == similar_movie_name, 'duration'].values[0])\n",
    "    budget = int(df_selected.loc[df_selected['movie_title'] == similar_movie_name, 'budget'].values[0])\n",
    "    gross = int(df_selected.loc[df_selected['movie_title'] == similar_movie_name, 'gross'].values[0])\n",
    "    \n",
    "    print(f\"Movie: {similar_movie_name.strip()}\")\n",
    "    print(f\"Similarity Score: {similar_score:.4f}\")\n",
    "    #print(f\"IMDb Score: {imdb_score}\")\n",
    "    #print(f\"Duration: {duration} min\")\n",
    "    #print(f\"Budget: ${budget}\")\n",
    "    #print(f\"Gross: ${gross}\")\n",
    "    print()"
   ]
  },
  {
   "cell_type": "code",
   "execution_count": 30,
   "id": "a44675d9-9d7b-418d-9f7d-0a88f120fae5",
   "metadata": {},
   "outputs": [
    {
     "ename": "IndexError",
     "evalue": "index 0 is out of bounds for axis 0 with size 0",
     "output_type": "error",
     "traceback": [
      "\u001b[0;31m---------------------------------------------------------------------------\u001b[0m",
      "\u001b[0;31mIndexError\u001b[0m                                Traceback (most recent call last)",
      "Cell \u001b[0;32mIn[30], line 6\u001b[0m\n\u001b[1;32m      3\u001b[0m \u001b[38;5;28;01mimport\u001b[39;00m \u001b[38;5;21;01mnumpy\u001b[39;00m \u001b[38;5;28;01mas\u001b[39;00m \u001b[38;5;21;01mnp\u001b[39;00m\n\u001b[1;32m      5\u001b[0m \u001b[38;5;66;03m# Extract target movie and the most similar movies data\u001b[39;00m\n\u001b[0;32m----> 6\u001b[0m target_data \u001b[38;5;241m=\u001b[39m df_selected\u001b[38;5;241m.\u001b[39mloc[df_selected[\u001b[38;5;124m'\u001b[39m\u001b[38;5;124mmovie_title\u001b[39m\u001b[38;5;124m'\u001b[39m] \u001b[38;5;241m==\u001b[39m target_movie_name, [\u001b[38;5;124m'\u001b[39m\u001b[38;5;124mimdb_score_norm\u001b[39m\u001b[38;5;124m'\u001b[39m, \u001b[38;5;124m'\u001b[39m\u001b[38;5;124mduration_norm\u001b[39m\u001b[38;5;124m'\u001b[39m, \u001b[38;5;124m'\u001b[39m\u001b[38;5;124mbudget_norm\u001b[39m\u001b[38;5;124m'\u001b[39m, \u001b[38;5;124m'\u001b[39m\u001b[38;5;124mgross_norm\u001b[39m\u001b[38;5;124m'\u001b[39m]]\u001b[38;5;241m.\u001b[39mvalues[\u001b[38;5;241m0\u001b[39m]\n\u001b[1;32m      7\u001b[0m similar_movies \u001b[38;5;241m=\u001b[39m df_selected\u001b[38;5;241m.\u001b[39mloc[df_selected[\u001b[38;5;124m'\u001b[39m\u001b[38;5;124mmovie_title\u001b[39m\u001b[38;5;124m'\u001b[39m]\u001b[38;5;241m.\u001b[39misin([movie \u001b[38;5;28;01mfor\u001b[39;00m movie, _ \u001b[38;5;129;01min\u001b[39;00m \u001b[38;5;28msorted\u001b[39m(query_distances, key\u001b[38;5;241m=\u001b[39m\u001b[38;5;28;01mlambda\u001b[39;00m x: x[\u001b[38;5;241m1\u001b[39m])[:\u001b[38;5;241m11\u001b[39m]])]\n\u001b[1;32m      8\u001b[0m similar_movies_features \u001b[38;5;241m=\u001b[39m similar_movies[[\u001b[38;5;124m'\u001b[39m\u001b[38;5;124mimdb_score_norm\u001b[39m\u001b[38;5;124m'\u001b[39m, \u001b[38;5;124m'\u001b[39m\u001b[38;5;124mduration_norm\u001b[39m\u001b[38;5;124m'\u001b[39m, \u001b[38;5;124m'\u001b[39m\u001b[38;5;124mbudget_norm\u001b[39m\u001b[38;5;124m'\u001b[39m, \u001b[38;5;124m'\u001b[39m\u001b[38;5;124mgross_norm\u001b[39m\u001b[38;5;124m'\u001b[39m]]\n",
      "\u001b[0;31mIndexError\u001b[0m: index 0 is out of bounds for axis 0 with size 0"
     ]
    }
   ],
   "source": []
  },
  {
   "cell_type": "code",
   "execution_count": null,
   "id": "6d81b6db-6c63-4f84-ba69-27ebb6418504",
   "metadata": {},
   "outputs": [],
   "source": []
  }
 ],
 "metadata": {
  "kernelspec": {
   "display_name": "Python 3 (ipykernel)",
   "language": "python",
   "name": "python3"
  },
  "language_info": {
   "codemirror_mode": {
    "name": "ipython",
    "version": 3
   },
   "file_extension": ".py",
   "mimetype": "text/x-python",
   "name": "python",
   "nbconvert_exporter": "python",
   "pygments_lexer": "ipython3",
   "version": "3.11.7"
  }
 },
 "nbformat": 4,
 "nbformat_minor": 5
}
